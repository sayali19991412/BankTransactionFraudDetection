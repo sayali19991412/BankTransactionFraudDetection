{
 "cells": [
  {
   "cell_type": "code",
   "execution_count": 1,
   "id": "accd210f",
   "metadata": {},
   "outputs": [],
   "source": [
    "import numpy as np\n",
    "import pandas as pd"
   ]
  },
  {
   "cell_type": "code",
   "execution_count": 2,
   "id": "6974b9ef",
   "metadata": {},
   "outputs": [],
   "source": [
    "from pyspark.sql import SparkSession\n",
    "\n",
    "# Create a SparkSession\n",
    "spark = SparkSession.builder \\\n",
    "    .appName(\"BankFraud\") \\\n",
    "    .getOrCreate()"
   ]
  },
  {
   "cell_type": "code",
   "execution_count": 3,
   "id": "379f8864",
   "metadata": {},
   "outputs": [],
   "source": [
    "df1 = spark.read.csv('train_transaction.csv', header=True, inferSchema=True)"
   ]
  },
  {
   "cell_type": "code",
   "execution_count": 4,
   "id": "674425b1",
   "metadata": {},
   "outputs": [],
   "source": [
    "df2 = spark.read.csv('train_identity.csv', header=True, inferSchema=True)"
   ]
  },
  {
   "cell_type": "markdown",
   "id": "67cba84c",
   "metadata": {},
   "source": [
    "# get the shape of df1"
   ]
  },
  {
   "cell_type": "code",
   "execution_count": null,
   "id": "f11e0374",
   "metadata": {},
   "outputs": [],
   "source": [
    "num_rows = df1.count()\n",
    "\n",
    "# Get the number of columns\n",
    "num_columns = len(df1.columns)\n",
    "\n",
    "print(\"Number of Rows:\", num_rows)\n",
    "print(\"Number of Columns:\", num_columns)"
   ]
  },
  {
   "cell_type": "markdown",
   "id": "03cbcc69",
   "metadata": {},
   "source": [
    "# get the shape of df2"
   ]
  },
  {
   "cell_type": "code",
   "execution_count": null,
   "id": "0b5735c5",
   "metadata": {},
   "outputs": [],
   "source": [
    "num_rows = df2.count()\n",
    "\n",
    "# Get the number of columns\n",
    "num_columns = len(df2.columns)\n",
    "\n",
    "print(\"Number of Rows:\", num_rows)\n",
    "print(\"Number of Columns:\", num_columns)"
   ]
  },
  {
   "cell_type": "markdown",
   "id": "18204295",
   "metadata": {},
   "source": [
    "# join both dataframes"
   ]
  },
  {
   "cell_type": "code",
   "execution_count": 5,
   "id": "10dca0b7",
   "metadata": {},
   "outputs": [],
   "source": [
    "df3 = df1.join(df2, on=\"TransactionID\", how=\"left\")"
   ]
  },
  {
   "cell_type": "code",
   "execution_count": null,
   "id": "590434fa",
   "metadata": {},
   "outputs": [],
   "source": [
    "num_rows = df3.count()\n",
    "\n",
    "# Get the number of columns\n",
    "num_columns = len(df3.columns)\n",
    "\n",
    "print(\"Number of Rows:\", num_rows)\n",
    "print(\"Number of Columns:\", num_columns)"
   ]
  },
  {
   "cell_type": "markdown",
   "id": "77ad8ddc",
   "metadata": {},
   "source": [
    "# find missing values "
   ]
  },
  {
   "cell_type": "code",
   "execution_count": 6,
   "id": "3c856af6",
   "metadata": {},
   "outputs": [],
   "source": [
    "from pyspark.sql.functions import col, sum"
   ]
  },
  {
   "cell_type": "code",
   "execution_count": 7,
   "id": "50583ce3",
   "metadata": {},
   "outputs": [],
   "source": [
    "total_rows = df3.count()\n",
    "null_percentages = [(col_name, df3.filter(col(col_name).isNull()).count() / total_rows) for col_name in df3.columns]"
   ]
  },
  {
   "cell_type": "code",
   "execution_count": 8,
   "id": "9a1a9175",
   "metadata": {},
   "outputs": [],
   "source": [
    "columns_to_drop = [col_name for col_name, null_percentage in null_percentages if null_percentage > 0.4]"
   ]
  },
  {
   "cell_type": "code",
   "execution_count": 9,
   "id": "e991653d",
   "metadata": {},
   "outputs": [],
   "source": [
    "df = df3.drop(*columns_to_drop)"
   ]
  },
  {
   "cell_type": "code",
   "execution_count": 10,
   "id": "5a5b3722",
   "metadata": {},
   "outputs": [
    {
     "data": {
      "text/plain": [
       "202"
      ]
     },
     "execution_count": 10,
     "metadata": {},
     "output_type": "execute_result"
    }
   ],
   "source": [
    "len(df.columns)"
   ]
  },
  {
   "cell_type": "markdown",
   "id": "c8f0b8b2",
   "metadata": {},
   "source": [
    "# replace missing values by mean"
   ]
  },
  {
   "cell_type": "code",
   "execution_count": 11,
   "id": "24464a8a",
   "metadata": {},
   "outputs": [],
   "source": [
    "columns_to_replace = [\"card2\", \"addr1\", \"addr2\",\"D4\"]"
   ]
  },
  {
   "cell_type": "code",
   "execution_count": 12,
   "id": "01c85c92",
   "metadata": {},
   "outputs": [],
   "source": [
    "from pyspark.sql.functions import col, mean"
   ]
  },
  {
   "cell_type": "code",
   "execution_count": 13,
   "id": "70ca6a4a",
   "metadata": {},
   "outputs": [],
   "source": [
    "means = df.select(*[mean(col(c)).alias(c) for c in columns_to_replace]).collect()[0]"
   ]
  },
  {
   "cell_type": "code",
   "execution_count": 14,
   "id": "e5a6c356",
   "metadata": {},
   "outputs": [],
   "source": [
    "mean_values = {col_name: mean_val for col_name, mean_val in zip(columns_to_replace, means)}"
   ]
  },
  {
   "cell_type": "code",
   "execution_count": 15,
   "id": "c10e1239",
   "metadata": {},
   "outputs": [],
   "source": [
    "for col_name in columns_to_replace:\n",
    "    df = df.fillna(mean_values[col_name], subset=[col_name])"
   ]
  },
  {
   "cell_type": "code",
   "execution_count": null,
   "id": "96baae06",
   "metadata": {},
   "outputs": [],
   "source": [
    "for i in columns_to_replace:\n",
    "    null_count = df.select(sum(col(i).isNull().cast(\"int\")).alias(\"null_count\")).collect()[0][\"null_count\"]\n",
    "\n",
    "# Display the null count\n",
    "    print(f\"Null count for {i}: {null_count}\")"
   ]
  },
  {
   "cell_type": "markdown",
   "id": "8054f5bc",
   "metadata": {},
   "source": [
    "# card3 , card5 by median"
   ]
  },
  {
   "cell_type": "code",
   "execution_count": 16,
   "id": "e94498b3",
   "metadata": {},
   "outputs": [],
   "source": [
    "from pyspark.sql.functions import median"
   ]
  },
  {
   "cell_type": "code",
   "execution_count": 17,
   "id": "85526981",
   "metadata": {},
   "outputs": [],
   "source": [
    "columns_to_replace = [\"card3\", \"card5\"]"
   ]
  },
  {
   "cell_type": "code",
   "execution_count": 18,
   "id": "048cd629",
   "metadata": {},
   "outputs": [],
   "source": [
    "medians = df.select(*[median(col(c)).alias(c) for c in columns_to_replace]).collect()[0]"
   ]
  },
  {
   "cell_type": "code",
   "execution_count": 19,
   "id": "274d930b",
   "metadata": {},
   "outputs": [],
   "source": [
    "median_values = {col_name: median_val for col_name, median_val in zip(columns_to_replace, medians)}"
   ]
  },
  {
   "cell_type": "code",
   "execution_count": 20,
   "id": "a27e52e1",
   "metadata": {},
   "outputs": [],
   "source": [
    "for col_name in columns_to_replace:\n",
    "    df = df.fillna(median_values[col_name], subset=[col_name])"
   ]
  },
  {
   "cell_type": "code",
   "execution_count": null,
   "id": "df279029",
   "metadata": {},
   "outputs": [],
   "source": [
    "for i in columns_to_replace:\n",
    "    null_count = df.select(sum(col(i).isNull().cast(\"int\")).alias(\"null_count\")).collect()[0][\"null_count\"]\n",
    "\n",
    "# Display the null count\n",
    "    print(f\"Null count for {i}: {null_count}\")"
   ]
  },
  {
   "cell_type": "markdown",
   "id": "7cef014e",
   "metadata": {},
   "source": [
    "# card4 , card6 , P_emaildomain , M6 column by mode"
   ]
  },
  {
   "cell_type": "code",
   "execution_count": 21,
   "id": "c2f0fa40",
   "metadata": {},
   "outputs": [],
   "source": [
    "from pyspark.sql.functions import mode"
   ]
  },
  {
   "cell_type": "markdown",
   "id": "c01a6994",
   "metadata": {},
   "source": [
    "### card4"
   ]
  },
  {
   "cell_type": "code",
   "execution_count": 22,
   "id": "4f4ab3e6",
   "metadata": {},
   "outputs": [],
   "source": [
    "column_to_replace = 'card4'"
   ]
  },
  {
   "cell_type": "code",
   "execution_count": 23,
   "id": "f0ec6f49",
   "metadata": {},
   "outputs": [],
   "source": [
    "mode_value = df.select(mode(col(column_to_replace))).collect()[0][0]"
   ]
  },
  {
   "cell_type": "code",
   "execution_count": 24,
   "id": "979efa0a",
   "metadata": {},
   "outputs": [],
   "source": [
    "df = df.fillna(mode_value, subset=[column_to_replace])"
   ]
  },
  {
   "cell_type": "code",
   "execution_count": null,
   "id": "699f56ae",
   "metadata": {},
   "outputs": [],
   "source": [
    "null_count = df.select(sum(col('card4').isNull().cast(\"int\")).alias(\"null_count\")).collect()[0][\"null_count\"]\n",
    "\n",
    "# Display the null count\n",
    "print(f\"Null count for card4: {null_count}\")"
   ]
  },
  {
   "cell_type": "markdown",
   "id": "ce4e7c28",
   "metadata": {},
   "source": [
    "### card6"
   ]
  },
  {
   "cell_type": "code",
   "execution_count": 25,
   "id": "47eabc37",
   "metadata": {},
   "outputs": [],
   "source": [
    "column_to_replace = 'card6'"
   ]
  },
  {
   "cell_type": "code",
   "execution_count": 26,
   "id": "a6703495",
   "metadata": {},
   "outputs": [],
   "source": [
    "mode_value = df.select(mode(col(column_to_replace))).collect()[0][0]"
   ]
  },
  {
   "cell_type": "code",
   "execution_count": 27,
   "id": "61768e18",
   "metadata": {},
   "outputs": [],
   "source": [
    "df = df.fillna(mode_value, subset=[column_to_replace])"
   ]
  },
  {
   "cell_type": "code",
   "execution_count": null,
   "id": "4b8d8fce",
   "metadata": {},
   "outputs": [],
   "source": [
    "null_count = df.select(sum(col('card6').isNull().cast(\"int\")).alias(\"null_count\")).collect()[0][\"null_count\"]\n",
    "\n",
    "# Display the null count\n",
    "print(f\"Null count for card6: {null_count}\")"
   ]
  },
  {
   "cell_type": "markdown",
   "id": "21a2e004",
   "metadata": {},
   "source": [
    "### P_emaildomain"
   ]
  },
  {
   "cell_type": "code",
   "execution_count": 28,
   "id": "7f8db121",
   "metadata": {},
   "outputs": [],
   "source": [
    "column_to_replace = 'P_emaildomain'"
   ]
  },
  {
   "cell_type": "code",
   "execution_count": 29,
   "id": "1499117b",
   "metadata": {},
   "outputs": [],
   "source": [
    "mode_value = df.select(mode(col(column_to_replace))).collect()[0][0]"
   ]
  },
  {
   "cell_type": "code",
   "execution_count": 30,
   "id": "6ffb42fc",
   "metadata": {},
   "outputs": [],
   "source": [
    "df = df.fillna(mode_value, subset=[column_to_replace])"
   ]
  },
  {
   "cell_type": "markdown",
   "id": "e61c4a44",
   "metadata": {},
   "source": [
    "###  M6"
   ]
  },
  {
   "cell_type": "code",
   "execution_count": 31,
   "id": "6fe7727c",
   "metadata": {},
   "outputs": [],
   "source": [
    "column_to_replace = 'M6'"
   ]
  },
  {
   "cell_type": "code",
   "execution_count": 32,
   "id": "cdebc8e5",
   "metadata": {},
   "outputs": [],
   "source": [
    "mode_value = df.select(mode(col(column_to_replace))).collect()[0][0]"
   ]
  },
  {
   "cell_type": "code",
   "execution_count": 33,
   "id": "8ae1d932",
   "metadata": {},
   "outputs": [],
   "source": [
    "df = df.fillna(mode_value, subset=[column_to_replace])"
   ]
  },
  {
   "cell_type": "markdown",
   "id": "e0ea0028",
   "metadata": {},
   "source": [
    "# d1 , d10 , d15"
   ]
  },
  {
   "cell_type": "code",
   "execution_count": 34,
   "id": "ea01df8d",
   "metadata": {},
   "outputs": [],
   "source": [
    "columns_to_replace = ['D1','D10','D15']"
   ]
  },
  {
   "cell_type": "code",
   "execution_count": 35,
   "id": "92687dff",
   "metadata": {},
   "outputs": [],
   "source": [
    "medians = df.select(*[median(col(c)).alias(c) for c in columns_to_replace]).collect()[0]"
   ]
  },
  {
   "cell_type": "code",
   "execution_count": 36,
   "id": "3aadca10",
   "metadata": {},
   "outputs": [],
   "source": [
    "median_values = {col_name: median_val for col_name, median_val in zip(columns_to_replace, medians)}"
   ]
  },
  {
   "cell_type": "code",
   "execution_count": 37,
   "id": "81e156d4",
   "metadata": {},
   "outputs": [],
   "source": [
    "for col_name in columns_to_replace:\n",
    "    df = df.fillna(median_values[col_name], subset=[col_name])"
   ]
  },
  {
   "cell_type": "markdown",
   "id": "aee110ee",
   "metadata": {},
   "source": [
    "# for V columns"
   ]
  },
  {
   "cell_type": "code",
   "execution_count": 38,
   "id": "cde038a4",
   "metadata": {},
   "outputs": [],
   "source": [
    "columns_to_replace = [col_name for col_name in df.columns if col_name.startswith(\"V\")]"
   ]
  },
  {
   "cell_type": "code",
   "execution_count": 39,
   "id": "ad6286bb",
   "metadata": {},
   "outputs": [],
   "source": [
    "medians = df.select(*[median(col(c)).alias(c) for c in columns_to_replace]).collect()[0]"
   ]
  },
  {
   "cell_type": "code",
   "execution_count": 40,
   "id": "dd477434",
   "metadata": {},
   "outputs": [],
   "source": [
    "median_values = {col_name: median_val for col_name, median_val in zip(columns_to_replace, medians)}"
   ]
  },
  {
   "cell_type": "code",
   "execution_count": 41,
   "id": "f95e2a95",
   "metadata": {},
   "outputs": [],
   "source": [
    "for col_name in columns_to_replace:\n",
    "    df = df.fillna(median_values[col_name], subset=[col_name])"
   ]
  },
  {
   "cell_type": "markdown",
   "id": "1df0ad9d",
   "metadata": {},
   "source": [
    "# check if any null value exist "
   ]
  },
  {
   "cell_type": "code",
   "execution_count": null,
   "id": "b5e52ca4",
   "metadata": {},
   "outputs": [],
   "source": [
    "for i in df.columns:\n",
    "\n",
    "    null_count = df.select(sum(col(i).isNull().cast(\"int\")).alias(\"null_count\")).collect()[0][\"null_count\"]\n",
    "\n",
    "# Display the null count\n",
    "    print(f\"Null count for {i}: {null_count}\")"
   ]
  },
  {
   "cell_type": "code",
   "execution_count": 42,
   "id": "705fe58f",
   "metadata": {},
   "outputs": [],
   "source": [
    "df = df.drop('TransactionID')"
   ]
  },
  {
   "cell_type": "code",
   "execution_count": null,
   "id": "4074055b",
   "metadata": {},
   "outputs": [],
   "source": [
    "spark.stop()"
   ]
  },
  {
   "cell_type": "code",
   "execution_count": null,
   "id": "cca1c3b3",
   "metadata": {},
   "outputs": [],
   "source": []
  }
 ],
 "metadata": {
  "kernelspec": {
   "display_name": "Python 3 (ipykernel)",
   "language": "python",
   "name": "python3"
  },
  "language_info": {
   "codemirror_mode": {
    "name": "ipython",
    "version": 3
   },
   "file_extension": ".py",
   "mimetype": "text/x-python",
   "name": "python",
   "nbconvert_exporter": "python",
   "pygments_lexer": "ipython3",
   "version": "3.10.9"
  }
 },
 "nbformat": 4,
 "nbformat_minor": 5
}
